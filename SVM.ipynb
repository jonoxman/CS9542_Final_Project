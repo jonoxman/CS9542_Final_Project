{
 "cells": [
  {
   "cell_type": "code",
   "execution_count": 34,
   "metadata": {},
   "outputs": [],
   "source": [
    "import numpy as np\n",
    "import pandas as pd\n",
    "from pathlib import Path\n",
    "import pandas as pd\n",
    "from sklearn.model_selection import train_test_split\n",
    "from sklearn import svm\n",
    "from sklearn.model_selection import train_test_split\n",
    "from sklearn.preprocessing import StandardScaler\n",
    "from sklearn.decomposition import PCA\n",
    "from sklearn.metrics import accuracy_score, confusion_matrix\n",
    "from sklearn.svm import SVC\n",
    "from sklearn.model_selection import GridSearchCV\n",
    "from sklearn.inspection import permutation_importance\n",
    "import cv2\n",
    "import matplotlib.pyplot as plt"
   ]
  },
  {
   "cell_type": "code",
   "execution_count": 2,
   "metadata": {},
   "outputs": [],
   "source": [
    "# # Size of images\n",
    "# folder_path = Path('maze/unsolvable')\n",
    "# for img_path in folder_path.glob('*.png'):\n",
    "#     with Image.open(img_path) as img:\n",
    "#         print(img.size)  # This will print the dimensions of the image\n",
    "#         break  # Just check the first one for now"
   ]
  },
  {
   "cell_type": "code",
   "execution_count": 53,
   "metadata": {},
   "outputs": [],
   "source": [
    "# Define paths to the folders\n",
    "solvable_path = Path('./31')\n",
    "unsolvable_path = Path('./31_unsolvable_same_wall_count')\n",
    "max_images = 15000  # Total number of images to load (50% solvable + 50% unsolvable)\n",
    "\n",
    "# Calculate the number of images to load per class\n",
    "images_per_class = max_images // 2\n",
    "\n",
    "images = []  # Initialize a list to store image data\n",
    "labels = []  # Initialize a list to store labels\n",
    "\n",
    "# Function to load and flatten images from a folder, and assign labels\n",
    "def load_and_label_images(folder_path, label, max_images):\n",
    "    count = 0\n",
    "    for img_path in folder_path.glob('*.png'):\n",
    "        if count >= max_images:\n",
    "            break\n",
    "        img_array = np.array(cv2.imread(img_path, cv2.IMREAD_GRAYSCALE))\n",
    "        img_flat = img_array.flatten()  # Flatten the 2D image to 1D\n",
    "        img_flat = img_flat.astype(int)  # Convert boolean values to integers\n",
    "        images.append(img_flat)\n",
    "        labels.append(label)\n",
    "        count += 1\n",
    "\n",
    "# Load and label an equal number of solvable and unsolvable images\n",
    "load_and_label_images(solvable_path, 1, images_per_class)  # Label 1 for solvable\n",
    "load_and_label_images(unsolvable_path, 0, images_per_class)  # Label 0 for unsolvable\n",
    "\n",
    "# Create a DataFrame\n",
    "df = pd.DataFrame(images)\n",
    "df['Label'] = labels  # Add the labels column"
   ]
  },
  {
   "cell_type": "code",
   "execution_count": 54,
   "metadata": {},
   "outputs": [],
   "source": [
    "# Data preparation\n",
    "X = df.drop('Label', axis=1).values\n",
    "y = df['Label'].values\n",
    "\n",
    "# Standard scaling\n",
    "scaler = StandardScaler()\n",
    "X_scaled = scaler.fit_transform(X)\n",
    "\n",
    "# Dimensionality Reduction with PCA\n",
    "#pca = PCA(n_components=0.95)  # Retain 95% of variance\n",
    "#X_pca = pca.fit_transform(X_scaled)\n",
    "\n",
    "# Splitting the dataset into training and testing sets\n",
    "X_train, X_test, y_train, y_test = train_test_split(X_scaled, y, test_size=0.2, random_state=42)\n",
    "\n",
    "# SVM Classifier\n",
    "#clf = svm.SVC(kernel='rbf')\n",
    "#clf.fit(X_train, y_train)\n",
    "\n",
    "# Predictions\n",
    "#y_pred = clf.predict(X_test)"
   ]
  },
  {
   "cell_type": "code",
   "execution_count": 5,
   "metadata": {},
   "outputs": [
    {
     "name": "stdout",
     "output_type": "stream",
     "text": [
      "Accuracy: 0.521\n",
      "Confusion Matrix:\n",
      " [[ 990 1495]\n",
      " [ 900 1615]]\n"
     ]
    }
   ],
   "source": [
    "# Accuracy\n",
    "#accuracy = accuracy_score(y_test, y_pred)\n",
    "#print(\"Accuracy:\", accuracy)\n",
    "\n",
    "# Confusion Matrix\n",
    "#conf_matrix = confusion_matrix(y_test, y_pred)\n",
    "#print(\"Confusion Matrix:\\n\", conf_matrix)"
   ]
  },
  {
   "cell_type": "code",
   "execution_count": null,
   "metadata": {},
   "outputs": [],
   "source": [
    "# Set up parameter grid to test different configurations\n",
    "param_grid = {\n",
    "    'C': [0.1, 1, 10, 100],  # Regularization parameter\n",
    "    'kernel': ['rbf', 'poly', 'sigmoid'],\n",
    "    'gamma': [0.0001, 0.001, 0.01, 0.1, 1],  # Kernel Coefficients\n",
    "    'degree': [2, 3, 4]  # Degree of the polynomial kernel, if polynomial is selected\n",
    "}\n",
    "\n",
    "# Create a GridSearchCV object\n",
    "grid_search = GridSearchCV(SVC(), param_grid, cv=5)\n",
    "grid_search.fit(X_train, y_train)\n",
    "\n",
    "# Evaluate the best model found by GridSearchCV\n",
    "best_model = grid_search.best_estimator_\n",
    "y_pred = best_model.predict(X_test)\n",
    "print(\"Best Model's Params:\", grid_search.best_params_)\n",
    "print(\"Best Model's Accuracy:\", best_model.score(X_test, y_test))"
   ]
  },
  {
   "cell_type": "code",
   "execution_count": 55,
   "metadata": {},
   "outputs": [
    {
     "name": "stdout",
     "output_type": "stream",
     "text": [
      "Fitting 5 folds for each of 9 candidates, totalling 45 fits\n",
      "[CV] END .................C=0.1, gamma=0.001, kernel=sigmoid; total time=  56.3s\n",
      "[CV] END .................C=0.1, gamma=0.001, kernel=sigmoid; total time=  56.0s\n",
      "[CV] END .................C=0.1, gamma=0.001, kernel=sigmoid; total time=  56.1s\n",
      "[CV] END .................C=0.1, gamma=0.001, kernel=sigmoid; total time=  56.3s\n",
      "[CV] END .................C=0.1, gamma=0.001, kernel=sigmoid; total time=  58.2s\n",
      "[CV] END ..................C=0.1, gamma=0.01, kernel=sigmoid; total time=  59.3s\n",
      "[CV] END ..................C=0.1, gamma=0.01, kernel=sigmoid; total time=  56.6s\n",
      "[CV] END ..................C=0.1, gamma=0.01, kernel=sigmoid; total time=  57.1s\n",
      "[CV] END ..................C=0.1, gamma=0.01, kernel=sigmoid; total time=  58.4s\n",
      "[CV] END ..................C=0.1, gamma=0.01, kernel=sigmoid; total time=  57.6s\n",
      "[CV] END ...................C=0.1, gamma=0.1, kernel=sigmoid; total time=  51.0s\n",
      "[CV] END ...................C=0.1, gamma=0.1, kernel=sigmoid; total time=  51.4s\n",
      "[CV] END ...................C=0.1, gamma=0.1, kernel=sigmoid; total time=  49.8s\n",
      "[CV] END ...................C=0.1, gamma=0.1, kernel=sigmoid; total time=  51.0s\n",
      "[CV] END ...................C=0.1, gamma=0.1, kernel=sigmoid; total time=  49.2s\n",
      "[CV] END ...................C=1, gamma=0.001, kernel=sigmoid; total time=  54.3s\n",
      "[CV] END ...................C=1, gamma=0.001, kernel=sigmoid; total time=  56.3s\n",
      "[CV] END ...................C=1, gamma=0.001, kernel=sigmoid; total time=  56.9s\n",
      "[CV] END ...................C=1, gamma=0.001, kernel=sigmoid; total time=  55.0s\n",
      "[CV] END ...................C=1, gamma=0.001, kernel=sigmoid; total time=  55.4s\n",
      "[CV] END ....................C=1, gamma=0.01, kernel=sigmoid; total time=  57.4s\n",
      "[CV] END ....................C=1, gamma=0.01, kernel=sigmoid; total time=  56.4s\n",
      "[CV] END ....................C=1, gamma=0.01, kernel=sigmoid; total time=  56.1s\n",
      "[CV] END ....................C=1, gamma=0.01, kernel=sigmoid; total time=  55.4s\n",
      "[CV] END ....................C=1, gamma=0.01, kernel=sigmoid; total time=  55.3s\n",
      "[CV] END .....................C=1, gamma=0.1, kernel=sigmoid; total time=  46.3s\n",
      "[CV] END .....................C=1, gamma=0.1, kernel=sigmoid; total time=  46.4s\n",
      "[CV] END .....................C=1, gamma=0.1, kernel=sigmoid; total time=  47.3s\n",
      "[CV] END .....................C=1, gamma=0.1, kernel=sigmoid; total time=  46.0s\n",
      "[CV] END .....................C=1, gamma=0.1, kernel=sigmoid; total time=  45.8s\n",
      "[CV] END ..................C=10, gamma=0.001, kernel=sigmoid; total time=  58.4s\n",
      "[CV] END ..................C=10, gamma=0.001, kernel=sigmoid; total time=  59.6s\n",
      "[CV] END ..................C=10, gamma=0.001, kernel=sigmoid; total time=  58.9s\n",
      "[CV] END ..................C=10, gamma=0.001, kernel=sigmoid; total time=  59.8s\n",
      "[CV] END ..................C=10, gamma=0.001, kernel=sigmoid; total time=  59.6s\n",
      "[CV] END ...................C=10, gamma=0.01, kernel=sigmoid; total time=  49.0s\n",
      "[CV] END ...................C=10, gamma=0.01, kernel=sigmoid; total time=  46.1s\n",
      "[CV] END ...................C=10, gamma=0.01, kernel=sigmoid; total time=  47.7s\n",
      "[CV] END ...................C=10, gamma=0.01, kernel=sigmoid; total time=  49.7s\n",
      "[CV] END ...................C=10, gamma=0.01, kernel=sigmoid; total time=  49.0s\n",
      "[CV] END ....................C=10, gamma=0.1, kernel=sigmoid; total time=  45.1s\n",
      "[CV] END ....................C=10, gamma=0.1, kernel=sigmoid; total time=  45.5s\n",
      "[CV] END ....................C=10, gamma=0.1, kernel=sigmoid; total time=  48.2s\n",
      "[CV] END ....................C=10, gamma=0.1, kernel=sigmoid; total time=  47.8s\n",
      "[CV] END ....................C=10, gamma=0.1, kernel=sigmoid; total time=  48.1s\n",
      "Best Model's Params: {'C': 1, 'gamma': 0.01, 'kernel': 'sigmoid'}\n",
      "Best Model's Accuracy: 0.7656666666666667\n"
     ]
    }
   ],
   "source": [
    "# The best kernel type is sigmoid. Test different configurations of only the parameters for this kernel type\n",
    "param_grid = {\n",
    "    'C': [0.1, 1, 10],  # Regularization parameter\n",
    "    'kernel': ['sigmoid'],\n",
    "    'gamma': [0.001, 0.01, 0.1],  # Kernel Coefficients\n",
    "}\n",
    "# There are 5 times 4 = 20 configurations, so this will take about 20 times as long as training the model once. \n",
    "\n",
    "# Create a GridSearchCV object\n",
    "grid_search = GridSearchCV(SVC(), param_grid, cv=5, verbose=2)\n",
    "grid_search.fit(X_train, y_train)\n",
    "\n",
    "# Evaluate the best model found by GridSearchCV\n",
    "best_model = grid_search.best_estimator_\n",
    "y_pred = best_model.predict(X_test)\n",
    "print(\"Best Model's Params:\", grid_search.best_params_)\n",
    "print(\"Best Model's Accuracy:\", best_model.score(X_test, y_test))"
   ]
  },
  {
   "cell_type": "code",
   "execution_count": 56,
   "metadata": {},
   "outputs": [],
   "source": [
    "nu_clf = svm.SVC(C=1, gamma=0.01, kernel='sigmoid')\n",
    "nu_clf.fit(X_train, y_train)\n",
    "\n",
    "# Predictions\n",
    "y_pred = nu_clf.predict(X_test)"
   ]
  },
  {
   "cell_type": "code",
   "execution_count": 57,
   "metadata": {},
   "outputs": [
    {
     "name": "stdout",
     "output_type": "stream",
     "text": [
      "Accuracy: 0.7656666666666667\n",
      "Confusion Matrix:\n",
      " [[1136  357]\n",
      " [ 346 1161]]\n"
     ]
    }
   ],
   "source": [
    "# Accuracy\n",
    "accuracy = accuracy_score(y_test, y_pred)\n",
    "print(\"Accuracy:\", accuracy)\n",
    "\n",
    "# Confusion Matrix\n",
    "conf_matrix = confusion_matrix(y_test, y_pred)\n",
    "print(\"Confusion Matrix:\\n\", conf_matrix)"
   ]
  },
  {
   "cell_type": "code",
   "execution_count": 49,
   "metadata": {},
   "outputs": [
    {
     "data": {
      "image/png": "[encoded data removed]",
      "text/plain": [
       "<Figure size 640x480 with 2 Axes>"
      ]
     },
     "metadata": {},
     "output_type": "display_data"
    }
   ],
   "source": [
    "# identify important features and plot importance heatmap (17 by 17)\n",
    "perm_importance = permutation_importance(nu_clf, X_train, y_train, n_jobs=8)\n",
    "importances = perm_importance['importances_mean'].reshape(17, 17)\n",
    "ax = plt.imshow(importances, cmap='viridis')\n",
    "_ = plt.colorbar(ax)"
   ]
  }
 ],
 "metadata": {
  "kernelspec": {
   "display_name": "Python 3",
   "language": "python",
   "name": "python3"
  },
  "language_info": {
   "codemirror_mode": {
    "name": "ipython",
    "version": 3
   },
   "file_extension": ".py",
   "mimetype": "text/x-python",
   "name": "python",
   "nbconvert_exporter": "python",
   "pygments_lexer": "ipython3",
   "version": "3.12.7"
  }
 },
 "nbformat": 4,
 "nbformat_minor": 2
}
